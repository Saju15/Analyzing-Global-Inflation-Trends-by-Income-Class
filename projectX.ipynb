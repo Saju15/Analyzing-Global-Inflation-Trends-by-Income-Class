{
 "cells": [
  {
   "cell_type": "code",
   "execution_count": 7,
   "id": "1aeb82a4-a6cd-4561-995b-eb88c38f299a",
   "metadata": {},
   "outputs": [
    {
     "name": "stdout",
     "output_type": "stream",
     "text": [
      "<class 'pandas.core.frame.DataFrame'>\n",
      "RangeIndex: 266 entries, 0 to 265\n",
      "Data columns (total 28 columns):\n",
      " #   Column          Non-Null Count  Dtype  \n",
      "---  ------          --------------  -----  \n",
      " 0   Country Name    266 non-null    object \n",
      " 1   Country Code    266 non-null    object \n",
      " 2   Indicator Name  266 non-null    object \n",
      " 3   1998            205 non-null    float64\n",
      " 4   1999            207 non-null    float64\n",
      " 5   2000            211 non-null    float64\n",
      " 6   2001            216 non-null    float64\n",
      " 7   2002            218 non-null    float64\n",
      " 8   2003            221 non-null    float64\n",
      " 9   2004            222 non-null    float64\n",
      " 10  2005            225 non-null    float64\n",
      " 11  2006            228 non-null    float64\n",
      " 12  2007            230 non-null    float64\n",
      " 13  2008            231 non-null    float64\n",
      " 14  2009            234 non-null    float64\n",
      " 15  2010            236 non-null    float64\n",
      " 16  2011            240 non-null    float64\n",
      " 17  2012            239 non-null    float64\n",
      " 18  2013            237 non-null    float64\n",
      " 19  2014            235 non-null    float64\n",
      " 20  2015            234 non-null    float64\n",
      " 21  2016            234 non-null    float64\n",
      " 22  2017            229 non-null    float64\n",
      " 23  2018            226 non-null    float64\n",
      " 24  2019            225 non-null    float64\n",
      " 25  2020            218 non-null    float64\n",
      " 26  2021            216 non-null    float64\n",
      " 27  2022            199 non-null    float64\n",
      "dtypes: float64(25), object(3)\n",
      "memory usage: 58.3+ KB\n"
     ]
    }
   ],
   "source": [
    "import pandas as pd\n",
    "\n",
    "df = pd.read_excel(r\"C:\\Users\\vjsaj\\OneDrive\\Desktop\\Python_projects\\inflation.xls\")\n",
    "df.info()\n"
   ]
  },
  {
   "cell_type": "code",
   "execution_count": null,
   "id": "929f3d20",
   "metadata": {},
   "outputs": [],
   "source": []
  }
 ],
 "metadata": {
  "kernelspec": {
   "display_name": "Python 3 (ipykernel)",
   "language": "python",
   "name": "python3"
  },
  "language_info": {
   "codemirror_mode": {
    "name": "ipython",
    "version": 3
   },
   "file_extension": ".py",
   "mimetype": "text/x-python",
   "name": "python",
   "nbconvert_exporter": "python",
   "pygments_lexer": "ipython3",
   "version": "3.9.1"
  }
 },
 "nbformat": 4,
 "nbformat_minor": 5
}
